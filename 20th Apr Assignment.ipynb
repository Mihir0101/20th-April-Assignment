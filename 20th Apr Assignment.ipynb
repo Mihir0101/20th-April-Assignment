{
 "cells": [
  {
   "cell_type": "markdown",
   "id": "a2664b6f-c8a1-47c0-911f-1e5a5ef1c886",
   "metadata": {},
   "source": [
    "# 20th April Assignment"
   ]
  },
  {
   "cell_type": "code",
   "execution_count": null,
   "id": "37bf51fb-a8dc-4792-8391-97c7958a938e",
   "metadata": {},
   "outputs": [],
   "source": []
  },
  {
   "cell_type": "markdown",
   "id": "ba9e270e-ce96-45bb-be92-89ceb8506284",
   "metadata": {},
   "source": [
    "## Q1. What is the KNN algorithm?"
   ]
  },
  {
   "cell_type": "markdown",
   "id": "8857a129-1504-4082-a99a-5b69e0f33de5",
   "metadata": {},
   "source": [
    "KNN stands for K Nearest Neighbor.\n",
    "\n",
    "In this algorithm we have to find nearest neighbor of the datapoint.\n",
    "\n",
    "Out output will based on that neighbors.\n",
    "\n",
    "We can solve both classification and regression problem with this algorithm."
   ]
  },
  {
   "cell_type": "code",
   "execution_count": null,
   "id": "e8a7c432-69dd-4d81-ac3e-a889b0d58d6d",
   "metadata": {},
   "outputs": [],
   "source": []
  },
  {
   "cell_type": "markdown",
   "id": "b2e4fe5d-3a7f-4f16-8cde-77a1d9986fed",
   "metadata": {},
   "source": [
    "## Q2. How do you choose the value of K in KNN?"
   ]
  },
  {
   "cell_type": "markdown",
   "id": "6bb1a253-167e-43b5-892d-6881246187eb",
   "metadata": {},
   "source": [
    "I choose the value of K by hyperparameter tuning."
   ]
  },
  {
   "cell_type": "code",
   "execution_count": null,
   "id": "9f919692-d1f2-48ea-96e1-d11d6b12f561",
   "metadata": {},
   "outputs": [],
   "source": []
  },
  {
   "cell_type": "markdown",
   "id": "f5a9a80a-e401-46ae-93a2-58a2fb2d10dd",
   "metadata": {},
   "source": [
    "## Q3. What is the difference between KNN classifier and KNN regressor?"
   ]
  },
  {
   "cell_type": "markdown",
   "id": "cba419cf-b1d7-4a03-ac95-3604877071a4",
   "metadata": {},
   "source": [
    "* Prediction\n",
    "\n",
    "Classifier : We can predict binary values.\n",
    "\n",
    "Regression : We can predict continues numeric value.\n",
    "\n",
    "* Calculation\n",
    "\n",
    "Classification : We take most frequent node as output.\n",
    "\n",
    "Regression : We take average of nodes as output."
   ]
  },
  {
   "cell_type": "code",
   "execution_count": null,
   "id": "4dc75339-b78e-42e0-9403-828b5725d6a2",
   "metadata": {},
   "outputs": [],
   "source": []
  },
  {
   "cell_type": "markdown",
   "id": "431c572f-7065-4e22-86d6-1f8894d56d53",
   "metadata": {},
   "source": [
    "## Q4. How do you measure the performance of KNN?"
   ]
  },
  {
   "cell_type": "markdown",
   "id": "16c2b404-0952-4a1f-b278-bfd88df2fd55",
   "metadata": {},
   "source": [
    "* KNN Regressor\n",
    "\n",
    "1. Mean Squared Error\n",
    "\n",
    "2. Mean Absolute Error\n",
    "\n",
    "3. Root Mean Squared Error\n",
    "\n",
    "* KNN Classifier\n",
    "\n",
    "1. Accuracy Score\n",
    "\n",
    "2. Classification Report\n",
    "\n",
    "3. Confusion Matrix"
   ]
  },
  {
   "cell_type": "code",
   "execution_count": null,
   "id": "0518cd66-6dbe-4647-b05e-8fb29a717868",
   "metadata": {},
   "outputs": [],
   "source": []
  },
  {
   "cell_type": "markdown",
   "id": "951bb21f-76b4-4ce8-9f6a-45158c7b1608",
   "metadata": {},
   "source": [
    "## Q5. What is the curse of dimensionality in KNN?"
   ]
  },
  {
   "cell_type": "markdown",
   "id": "cbb845f0-18da-4a6e-8182-bf78fb21acf1",
   "metadata": {},
   "source": [
    "- > Curse of dimensionality is problem of high dimensional features.\n",
    "\n",
    "- > Because of it model could overfite.\n",
    "\n",
    "- > High dimensional features also contains too many outlier and KNN is susceptible to outliers.\n",
    "\n",
    "- > Outliers can make problem in calculation distance.\n",
    "\n",
    "- > It is complex in computation and also a time consuming."
   ]
  },
  {
   "cell_type": "code",
   "execution_count": null,
   "id": "b4fe643c-3f6a-4543-ac34-a6f3f68e802f",
   "metadata": {},
   "outputs": [],
   "source": []
  },
  {
   "cell_type": "markdown",
   "id": "ea0757ae-4e69-4148-a07e-781f49f0ca62",
   "metadata": {},
   "source": [
    "## Q6. How do you handle missing values in KNN?"
   ]
  },
  {
   "cell_type": "markdown",
   "id": "59ec1482-964f-4924-8b45-223d12d46d46",
   "metadata": {},
   "source": [
    "1. Mean\n",
    "\n",
    "2. Median\n",
    "\n",
    "3. Mode"
   ]
  },
  {
   "cell_type": "code",
   "execution_count": null,
   "id": "f3152e14-8f6a-423d-a88c-77146767b700",
   "metadata": {},
   "outputs": [],
   "source": []
  },
  {
   "cell_type": "markdown",
   "id": "dd8e33e3-1b61-4210-8c7e-7bddc838a053",
   "metadata": {},
   "source": [
    "## Q7. Compare and contrast the performance of the KNN classifier and regressor. Which one is better for which type of problem?"
   ]
  },
  {
   "cell_type": "markdown",
   "id": "71682a7b-ffb8-4b53-9118-411001b32581",
   "metadata": {},
   "source": [
    "* Comparison\n",
    "\n",
    "Both KNN Classifier and KNN Regressor are flexible to understand complex relationship.\n",
    "\n",
    "KNN can be sensitive to noisy data, outliers, and irrelevant features, especially in high-dimensional spaces.\n",
    "\n",
    "KNN's computational complexity increases with the size of the dataset and the number of dimensions. It may be computationally expensive for large datasets.\n",
    "\n",
    "- > The choise of KNN model is depends uppon nature of target variable."
   ]
  },
  {
   "cell_type": "code",
   "execution_count": null,
   "id": "4f75a6e6-e825-4c71-b305-e6914b7a7f24",
   "metadata": {},
   "outputs": [],
   "source": []
  },
  {
   "cell_type": "markdown",
   "id": "08ec9fea-fe05-46a4-a010-24b84f95f3e0",
   "metadata": {},
   "source": [
    "## Q8. What are the strengths and weaknesses of the KNN algorithm for classification and regression tasks,and how can these be addressed?"
   ]
  },
  {
   "cell_type": "markdown",
   "id": "09002d2c-fccc-49f0-95cb-3befe5cdcbae",
   "metadata": {},
   "source": [
    "## Strengths\n",
    "\n",
    "* KNN Classifier\n",
    "\n",
    "Simple to understand and implement.\n",
    "\n",
    "It can easily adapt the changes in dataset.\n",
    "\n",
    "It doesn't make assumption about obvious distribution.\n",
    "\n",
    "* KNN Regressor\n",
    "\n",
    "Flexible to capture complex relationship.\n",
    "\n",
    "It can handle non-linear relationship.\n",
    "\n",
    "## Weaknesses\n",
    "\n",
    "* KNN Classifier\n",
    "\n",
    "Complex at computaion.\n",
    "\n",
    "Time consuming.\n",
    "\n",
    "It is sensitive to noisy features.\n",
    "\n",
    "It is susceptible to outliers.\n",
    "\n",
    "* KNN Regressor\n",
    "\n",
    "It is less interpretable.\n",
    "\n",
    "It is also sensitive to noisy features and susceptible to outliers.\n",
    "\n",
    "## Addressing Weaknesses\n",
    "\n",
    "Dimensionality Reduction\n",
    "\n",
    "Feature Scaling\n",
    "\n",
    "Handling Outliers"
   ]
  },
  {
   "cell_type": "code",
   "execution_count": null,
   "id": "0abc8b97-8965-45da-82df-56709843edf8",
   "metadata": {},
   "outputs": [],
   "source": []
  },
  {
   "cell_type": "markdown",
   "id": "5c79be5c-e43a-4c87-bdc6-2c80d7a6dbeb",
   "metadata": {},
   "source": [
    "## Q9. What is the difference between Euclidean distance and Manhattan distance in KNN?"
   ]
  },
  {
   "cell_type": "markdown",
   "id": "8c7d81d8-4095-48a7-834c-ff72df4edd47",
   "metadata": {},
   "source": [
    "* Usecase\n",
    "\n",
    "Euclidean : Airline uses this technique because they have to calculate direct distance between two points.\n",
    "\n",
    "Manhattan : Different apps like G-Map,Uber,etc., use this technique to find distance between two point in any city or area.\n",
    "            \n",
    "* Formula\n",
    "         \n",
    "Euclidean : np.sqrt((X2 - X1) ** 2 + (Y2 - Y1) ** 2 )\n",
    "\n",
    "Manhattan : |X1 - X2| + |Y1 - Y2|"
   ]
  },
  {
   "cell_type": "markdown",
   "id": "456b0042-862b-4fd0-8ef7-22170e969750",
   "metadata": {},
   "source": []
  },
  {
   "cell_type": "markdown",
   "id": "18f6a6e9-8579-4b58-bc00-0737fa4e28a5",
   "metadata": {},
   "source": [
    "## Q10. What is the role of feature scaling in KNN?"
   ]
  },
  {
   "cell_type": "markdown",
   "id": "34d79d5c-21a6-4386-81fd-ec5bd90d51dc",
   "metadata": {},
   "source": [
    "Feature scaling plays crucial role in KNN.\n",
    "\n",
    "We have to find K nearest neighbors through calculating distance.\n",
    "\n",
    "If we doesn't scale down the features, so it can be complex computationaly.\n",
    "\n",
    "If we scale down the feature, so we can easily calculate the distance."
   ]
  },
  {
   "cell_type": "code",
   "execution_count": null,
   "id": "e9f5a132-7af5-4b71-aaa9-51dbf0829d21",
   "metadata": {},
   "outputs": [],
   "source": []
  }
 ],
 "metadata": {
  "kernelspec": {
   "display_name": "Python 3 (ipykernel)",
   "language": "python",
   "name": "python3"
  },
  "language_info": {
   "codemirror_mode": {
    "name": "ipython",
    "version": 3
   },
   "file_extension": ".py",
   "mimetype": "text/x-python",
   "name": "python",
   "nbconvert_exporter": "python",
   "pygments_lexer": "ipython3",
   "version": "3.10.8"
  }
 },
 "nbformat": 4,
 "nbformat_minor": 5
}
